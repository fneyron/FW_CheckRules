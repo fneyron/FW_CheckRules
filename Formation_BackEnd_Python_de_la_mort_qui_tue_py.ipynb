{
  "nbformat": 4,
  "nbformat_minor": 0,
  "metadata": {
    "colab": {
      "provenance": [],
      "include_colab_link": true
    },
    "kernelspec": {
      "name": "python3",
      "display_name": "Python 3"
    },
    "language_info": {
      "name": "python"
    }
  },
  "cells": [
    {
      "cell_type": "markdown",
      "metadata": {
        "id": "view-in-github",
        "colab_type": "text"
      },
      "source": [
        "<a href=\"https://colab.research.google.com/github/fneyron/FW_CheckRules/blob/master/Formation_BackEnd_Python_de_la_mort_qui_tue_py.ipynb\" target=\"_parent\"><img src=\"https://colab.research.google.com/assets/colab-badge.svg\" alt=\"Open In Colab\"/></a>"
      ]
    },
    {
      "cell_type": "markdown",
      "source": [
        "# Portée des variables\n",
        "Variables locales et variables globales."
      ],
      "metadata": {
        "id": "1ocdMSXHudZt"
      }
    },
    {
      "cell_type": "code",
      "source": [
        "print(\"Mon Super Texte\")"
      ],
      "metadata": {
        "colab": {
          "base_uri": "https://localhost:8080/"
        },
        "id": "y-P5oDJgwMTC",
        "outputId": "3b8cc7d0-1c97-45d2-dfb6-cd92177e052e"
      },
      "execution_count": null,
      "outputs": [
        {
          "output_type": "stream",
          "name": "stdout",
          "text": [
            "Mon Super Texte\n"
          ]
        }
      ]
    },
    {
      "cell_type": "code",
      "source": [
        "# Définition d'une variable globale en Python\n",
        "global_var = \"my_global_variable\"\n",
        "\n",
        "# Définition d'une fonction en Python\n",
        "def my_first_func():\n",
        "  global local_var\n",
        "  local_var =\"my_local_var\"\n",
        "\n",
        "  print(global_var)\n",
        "\n",
        "\n",
        "my_first_func()\n",
        "\n",
        "print(local_var)\n",
        "\n",
        "\n",
        "\n",
        "# En JS\n",
        "# const my_const=\"CONSTANTE\"\n",
        "# let letitgo=12"
      ],
      "metadata": {
        "colab": {
          "base_uri": "https://localhost:8080/"
        },
        "id": "9VR1hqjnugkR",
        "outputId": "bcfb2186-8649-424e-9e7b-f4b291ea42f1"
      },
      "execution_count": null,
      "outputs": [
        {
          "output_type": "stream",
          "name": "stdout",
          "text": [
            "my_global_variable\n",
            "my_local_var\n"
          ]
        }
      ]
    },
    {
      "cell_type": "markdown",
      "source": [
        "# Types de données, opérations et concaténations"
      ],
      "metadata": {
        "id": "ixfNLCGqyiR4"
      }
    },
    {
      "cell_type": "markdown",
      "source": [
        "## Types de variables"
      ],
      "metadata": {
        "id": "bjlbXvZ2zBbI"
      }
    },
    {
      "cell_type": "code",
      "source": [
        "monint=2\n",
        "monstr=\"texte\"\n",
        "monentiertexte=\"2\"\n",
        "\n",
        "calc = monint + int(monentiertexte)\n",
        "\n",
        "# Booléen\n",
        "vrai=True\n",
        "\n",
        "print(calc)\n",
        "print(str(vrai))\n",
        "print(bool(str(vrai)))\n",
        "\n",
        "\n",
        "print(\"Est-ce que calc est un str ?\" + isinstance(calc, str)) # Erreur concaténation entier avec str = erreur\n",
        "print(isinstance(calc, int))\n",
        "print(isinstance(vrai, bool))\n",
        "\n"
      ],
      "metadata": {
        "colab": {
          "base_uri": "https://localhost:8080/",
          "height": 304
        },
        "id": "XVS8-da6yh-H",
        "outputId": "a0d4f268-9228-4616-f166-df974b8a8233"
      },
      "execution_count": null,
      "outputs": [
        {
          "output_type": "stream",
          "name": "stdout",
          "text": [
            "4\n",
            "True\n",
            "True\n"
          ]
        },
        {
          "output_type": "error",
          "ename": "TypeError",
          "evalue": "ignored",
          "traceback": [
            "\u001b[0;31m---------------------------------------------------------------------------\u001b[0m",
            "\u001b[0;31mTypeError\u001b[0m                                 Traceback (most recent call last)",
            "\u001b[0;32m<ipython-input-16-790e9ed189c3>\u001b[0m in \u001b[0;36m<cell line: 15>\u001b[0;34m()\u001b[0m\n\u001b[1;32m     13\u001b[0m \u001b[0;34m\u001b[0m\u001b[0m\n\u001b[1;32m     14\u001b[0m \u001b[0;34m\u001b[0m\u001b[0m\n\u001b[0;32m---> 15\u001b[0;31m \u001b[0mprint\u001b[0m\u001b[0;34m(\u001b[0m\u001b[0;34m\"Est-ce que calc est un str ?\"\u001b[0m \u001b[0;34m+\u001b[0m \u001b[0misinstance\u001b[0m\u001b[0;34m(\u001b[0m\u001b[0mcalc\u001b[0m\u001b[0;34m,\u001b[0m \u001b[0mstr\u001b[0m\u001b[0;34m)\u001b[0m\u001b[0;34m)\u001b[0m\u001b[0;34m\u001b[0m\u001b[0;34m\u001b[0m\u001b[0m\n\u001b[0m\u001b[1;32m     16\u001b[0m \u001b[0mprint\u001b[0m\u001b[0;34m(\u001b[0m\u001b[0misinstance\u001b[0m\u001b[0;34m(\u001b[0m\u001b[0mcalc\u001b[0m\u001b[0;34m,\u001b[0m \u001b[0mint\u001b[0m\u001b[0;34m)\u001b[0m\u001b[0;34m)\u001b[0m\u001b[0;34m\u001b[0m\u001b[0;34m\u001b[0m\u001b[0m\n\u001b[1;32m     17\u001b[0m \u001b[0mprint\u001b[0m\u001b[0;34m(\u001b[0m\u001b[0misinstance\u001b[0m\u001b[0;34m(\u001b[0m\u001b[0mvrai\u001b[0m\u001b[0;34m,\u001b[0m \u001b[0mbool\u001b[0m\u001b[0;34m)\u001b[0m\u001b[0;34m)\u001b[0m\u001b[0;34m\u001b[0m\u001b[0;34m\u001b[0m\u001b[0m\n",
            "\u001b[0;31mTypeError\u001b[0m: can only concatenate str (not \"bool\") to str"
          ]
        }
      ]
    },
    {
      "cell_type": "code",
      "source": [
        "# Dictionnaires\n",
        "\n",
        "user1={\n",
        "    'user': 'fneyron',\n",
        "    'right': 'admin',\n",
        "    'email': 'florent.neyron@gmail.com'\n",
        "}\n",
        "\n",
        "user2={\n",
        "    'user': 'aneyron',\n",
        "    'right': 'student',\n",
        "    'email': 'adrien.neyron@gmail.com'\n",
        "}\n",
        "\n",
        "# Listes\n",
        "my_list = [user1, user2]\n",
        "\n",
        "print(my_list)"
      ],
      "metadata": {
        "colab": {
          "base_uri": "https://localhost:8080/"
        },
        "id": "puNJ0PmpHTez",
        "outputId": "799d029c-ede8-4382-ae13-c5fd44207859"
      },
      "execution_count": null,
      "outputs": [
        {
          "output_type": "stream",
          "name": "stdout",
          "text": [
            "[{'user': 'fneyron', 'right': 'admin', 'email': 'florent.neyron@gmail.com'}, {'user': 'aneyron', 'right': 'student', 'email': 'adrien.neyron@gmail.com'}]\n"
          ]
        }
      ]
    },
    {
      "cell_type": "markdown",
      "source": [
        "## Concaténations"
      ],
      "metadata": {
        "id": "8J2fGRj90AR0"
      }
    },
    {
      "cell_type": "code",
      "source": [
        "entier=4\n",
        "\n",
        "ma_chaine=\"Python\"\n",
        "fin_chaine=\"Life\"\n",
        "\n",
        "print(ma_chaine + str(entier) + fin_chaine)\n",
        "\n",
        "entier += 2\n",
        "\n",
        "print(entier)"
      ],
      "metadata": {
        "colab": {
          "base_uri": "https://localhost:8080/"
        },
        "id": "TIuUatDjz_m-",
        "outputId": "896715fb-8eac-40af-9cfc-d078198799d7"
      },
      "execution_count": null,
      "outputs": [
        {
          "output_type": "stream",
          "name": "stdout",
          "text": [
            "Python4Life\n",
            "6\n"
          ]
        }
      ]
    },
    {
      "cell_type": "code",
      "source": [
        "superlatif=\"trop\"\n",
        "humeur=\"cool\"\n",
        "power=100\n",
        "\n",
        "def mon_humeur_du_jour():\n",
        "  print(\"Aujourd'hui, je me sens \" + superlatif + \" \" + humeur + \"!\\n\")\n",
        "\n",
        "mon_humeur_du_jour()\n",
        "\n",
        "print(\"Aujourd'hui,\\n\\tje me sens %s %s avec une force de %08d\\n\\tC'est un truc de fou !\" % (superlatif, humeur, power))\n"
      ],
      "metadata": {
        "id": "pCych81-0u-2",
        "colab": {
          "base_uri": "https://localhost:8080/"
        },
        "outputId": "20d06077-9d69-4b55-9235-9bf492eaf983"
      },
      "execution_count": null,
      "outputs": [
        {
          "output_type": "stream",
          "name": "stdout",
          "text": [
            "Aujourd'hui, je me sens trop cool!\n",
            "\n",
            "Aujourd'hui,\n",
            "\tje me sens trop cool avec une force de 00000100\n",
            "\tC'est un truc de fou !\n"
          ]
        }
      ]
    },
    {
      "cell_type": "markdown",
      "source": [
        "## Opérations"
      ],
      "metadata": {
        "id": "NFUHA84H5din"
      }
    },
    {
      "cell_type": "code",
      "source": [
        "print(2+2)\n",
        "print(2-2)\n",
        "print(2*2)\n",
        "print(2/2)\n",
        "print(2**2) # Puissance\n",
        "print(2%2) # Modulo\n",
        "\n",
        "print(9%4) # Modulo"
      ],
      "metadata": {
        "colab": {
          "base_uri": "https://localhost:8080/"
        },
        "id": "LLXDMo7v5dQx",
        "outputId": "c7cfe697-b67b-4459-ce94-0a0cbd2048a4"
      },
      "execution_count": null,
      "outputs": [
        {
          "output_type": "stream",
          "name": "stdout",
          "text": [
            "4\n",
            "0\n",
            "4\n",
            "1.0\n",
            "4\n",
            "0\n",
            "1\n"
          ]
        }
      ]
    },
    {
      "cell_type": "markdown",
      "source": [
        "# Conditions & Boucles"
      ],
      "metadata": {
        "id": "kThvrivM6fhI"
      }
    },
    {
      "cell_type": "markdown",
      "source": [
        "## Conditions"
      ],
      "metadata": {
        "id": "l3vcOtesEL93"
      }
    },
    {
      "cell_type": "code",
      "source": [
        "number = 2\n",
        "faux = True\n",
        "\n",
        "if number < 2:\n",
        "  number += 2\n",
        "elif number > 2:\n",
        "  number += 1\n",
        "else:\n",
        "  number += 3\n",
        "\n",
        "print(\"number: %s\" % (number))\n",
        "print(\"number: \" + int(number))\n",
        "\n",
        "if number == 5 and not faux:\n",
        "  print(\"cool\")\n"
      ],
      "metadata": {
        "colab": {
          "base_uri": "https://localhost:8080/"
        },
        "id": "vduCgwF76iqQ",
        "outputId": "02c0bd87-a7ab-4f40-c36c-b08054d06363"
      },
      "execution_count": null,
      "outputs": [
        {
          "output_type": "stream",
          "name": "stdout",
          "text": [
            "number: 5\n",
            "cool\n"
          ]
        }
      ]
    },
    {
      "cell_type": "code",
      "source": [
        "number = 2\n",
        "faux = True\n",
        "vrai = False\n",
        "\n",
        "if (number == 2 or vrai) and not faux:\n",
        "  print(\"Ca marche\")\n",
        "\n",
        "\n"
      ],
      "metadata": {
        "colab": {
          "base_uri": "https://localhost:8080/"
        },
        "id": "Z2SfuRUK8MaV",
        "outputId": "52f90820-8652-4d3b-d2ed-821e602288f4"
      },
      "execution_count": null,
      "outputs": [
        {
          "output_type": "stream",
          "name": "stdout",
          "text": [
            "Ca marche\n"
          ]
        }
      ]
    },
    {
      "cell_type": "markdown",
      "source": [
        "## Boucles"
      ],
      "metadata": {
        "id": "EptfD-3DENTU"
      }
    },
    {
      "cell_type": "code",
      "source": [
        "for i in range(1,10):\n",
        "  print(i)"
      ],
      "metadata": {
        "colab": {
          "base_uri": "https://localhost:8080/"
        },
        "id": "JyIY1Ymx-UMO",
        "outputId": "ec8593bd-2a1e-474f-a8a0-f730d1fb1297"
      },
      "execution_count": null,
      "outputs": [
        {
          "output_type": "stream",
          "name": "stdout",
          "text": [
            "1\n",
            "2\n",
            "3\n",
            "4\n",
            "5\n",
            "6\n",
            "7\n",
            "8\n",
            "9\n"
          ]
        }
      ]
    },
    {
      "cell_type": "code",
      "source": [
        "for value in [\"banane\", \"pomme\"]:\n",
        "  print(\"J'aime la %s\" % value)\n",
        "\n"
      ],
      "metadata": {
        "colab": {
          "base_uri": "https://localhost:8080/"
        },
        "id": "wAV605_fEP3I",
        "outputId": "6cfeebd6-915d-4ff8-c855-c171b266d97c"
      },
      "execution_count": null,
      "outputs": [
        {
          "output_type": "stream",
          "name": "stdout",
          "text": [
            "J'aime la banane\n",
            "J'aime la pomme\n"
          ]
        }
      ]
    },
    {
      "cell_type": "code",
      "source": [
        "value = 1\n",
        "while(value < 10):\n",
        "  value += 1\n",
        "  print(value)"
      ],
      "metadata": {
        "colab": {
          "base_uri": "https://localhost:8080/"
        },
        "id": "ZAMtgqAdEbR2",
        "outputId": "54d009ac-b40d-4852-ecfe-2b2da5522e4d"
      },
      "execution_count": null,
      "outputs": [
        {
          "output_type": "stream",
          "name": "stdout",
          "text": [
            "2\n",
            "3\n",
            "4\n",
            "5\n",
            "6\n",
            "7\n",
            "8\n",
            "9\n",
            "10\n"
          ]
        }
      ]
    },
    {
      "cell_type": "markdown",
      "source": [
        "## Exercices\n",
        "\n",
        "1. Faire une boucle avec des conditions\n",
        "2. Faire une boucle infinie\n",
        "3. Faire une boucle de 1 à 20 et afficher paire pour toutes les valeurs paires et impaires pour les valeurs impaires\n",
        "\n",
        "\n"
      ],
      "metadata": {
        "id": "TUv2Ev1vEpGz"
      }
    },
    {
      "cell_type": "markdown",
      "source": [
        "## Boucle récursive"
      ],
      "metadata": {
        "id": "iTWW3JphIdjy"
      }
    },
    {
      "cell_type": "code",
      "source": [
        "import json\n",
        "\n",
        "user0={\n",
        "    'user': 'gneyron',\n",
        "    'right': 'user',\n",
        "    'email': 'gilles.neyron@gmail.com'\n",
        "}\n",
        "\n",
        "user1={\n",
        "    'user': 'fneyron',\n",
        "    'right': 'admin',\n",
        "    'email': 'florent.neyron@gmail.com',\n",
        "    'parent': user0\n",
        "\n",
        "}\n",
        "\n",
        "user2={\n",
        "    'user': 'aneyron',\n",
        "    'right': 'student',\n",
        "    'email': 'adrien.neyron@gmail.com',\n",
        "    'parent': user0\n",
        "}\n",
        "\n",
        "# Listes\n",
        "users = [user1, user2]\n",
        "\n",
        "\n",
        "def add_wife(user):\n",
        "  if 'parent' in user:\n",
        "    add_wife(user['parent'])\n",
        "  else:\n",
        "    user['wife']={\n",
        "      'user': 'nneyron',\n",
        "      'right': 'user',\n",
        "      'email': 'nadia.neyron@gmail.com'\n",
        "    }\n",
        "\n",
        "for user in users:\n",
        "  add_wife(user)\n",
        "\n",
        "\n",
        "print(user)\n",
        "\n"
      ],
      "metadata": {
        "colab": {
          "base_uri": "https://localhost:8080/",
          "height": 232
        },
        "id": "nXCc3LZYIjIB",
        "outputId": "0623fe70-de20-43de-b3f6-360b32987d62"
      },
      "execution_count": null,
      "outputs": [
        {
          "output_type": "error",
          "ename": "NameError",
          "evalue": "ignored",
          "traceback": [
            "\u001b[0;31m---------------------------------------------------------------------------\u001b[0m",
            "\u001b[0;31mNameError\u001b[0m                                 Traceback (most recent call last)",
            "\u001b[0;32m<ipython-input-64-ac2ef81fa25f>\u001b[0m in \u001b[0;36m<cell line: 42>\u001b[0;34m()\u001b[0m\n\u001b[1;32m     40\u001b[0m \u001b[0;34m\u001b[0m\u001b[0m\n\u001b[1;32m     41\u001b[0m \u001b[0;34m\u001b[0m\u001b[0m\n\u001b[0;32m---> 42\u001b[0;31m \u001b[0mpprint\u001b[0m\u001b[0;34m(\u001b[0m\u001b[0muser\u001b[0m\u001b[0;34m)\u001b[0m\u001b[0;34m\u001b[0m\u001b[0;34m\u001b[0m\u001b[0m\n\u001b[0m\u001b[1;32m     43\u001b[0m \u001b[0;34m\u001b[0m\u001b[0m\n",
            "\u001b[0;31mNameError\u001b[0m: name 'pprint' is not defined"
          ]
        }
      ]
    }
  ]
}